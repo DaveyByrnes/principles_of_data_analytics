{
 "cells": [
  {
   "cell_type": "markdown",
   "metadata": {},
   "source": [
    "# Tasks \n",
    "\n"
   ]
  },
  {
   "cell_type": "code",
   "execution_count": null,
   "metadata": {},
   "outputs": [],
   "source": [
    "# Imports\n",
    "import pandas as pd\n",
    "import numpy as np\n",
    "import sklearn as skl\n",
    "import matplotlib.pyplot as plt"
   ]
  },
  {
   "cell_type": "markdown",
   "metadata": {},
   "source": [
    "### Task 1: Source the Data Set\n"
   ]
  },
  {
   "cell_type": "code",
   "execution_count": 16,
   "metadata": {},
   "outputs": [],
   "source": [
    "# import the Iris data set from the sklearn.datasets module.\n",
    "from sklearn.datasets import load_iris\n",
    "\n",
    "# load the iris dataset\n",
    "data = skl.datasets.load_iris()\n"
   ]
  },
  {
   "cell_type": "markdown",
   "metadata": {},
   "source": [
    "#### 'Explain, in your own words, what the `load_iris()` function returns.'\n",
    "\n",
    "The Iris data set is a famous data set used widely relating to statistics and machine learning. The data set collects a number of samples from different species of irises and their measurements between four distinct features: sepal width, sepal length, petal length and petal width. I sourced most of my information about this data set in a paper published by [**UC Irving**](https://archive.ics.uci.edu/dataset/53/iris).\n",
    "\n",
    "The `load_iris` function from `sklearn.datasets` module returns a Bunch object, which is similar to a dictionary. It contains:\n",
    "\n",
    "* a `.data` array with feature measurements.\n",
    "* a `.target` array with numerical labels for the species.\n",
    "* a `.feature_names` list with the names of the species.\n",
    "* other metadata useful to understanding the data set.\n",
    "\n",
    "This function loads the Iris dataset into memory.\n",
    "\n"
   ]
  },
  {
   "cell_type": "markdown",
   "metadata": {},
   "source": [
    "### Task 2: Explore the Data Structure"
   ]
  },
  {
   "cell_type": "markdown",
   "metadata": {},
   "source": [
    "#### 'Print and explain the shape of the data set, the first and last 5 rows of the data, the feature names, and the target classes.'"
   ]
  },
  {
   "cell_type": "code",
   "execution_count": 17,
   "metadata": {},
   "outputs": [
    {
     "name": "stdout",
     "output_type": "stream",
     "text": [
      "Shape of dataset: (150, 4)\n"
     ]
    }
   ],
   "source": [
    "# print the shape of the data\n",
    "print(\"Shape of dataset:\", data['data'].shape)"
   ]
  },
  {
   "cell_type": "markdown",
   "metadata": {},
   "source": [
    "The output `(150, 4) tells us that there are 150 flower samples, which each have 4 features: sepal width, sepal length, petal length and petal width. This is the same as the UCI data set, which includes 50 samples from each of three species."
   ]
  },
  {
   "cell_type": "code",
   "execution_count": 18,
   "metadata": {},
   "outputs": [
    {
     "name": "stdout",
     "output_type": "stream",
     "text": [
      "First 5 rows of the data set:\n",
      "   sepal length (cm)  sepal width (cm)  petal length (cm)  petal width (cm)  \\\n",
      "0                5.1               3.5                1.4               0.2   \n",
      "1                4.9               3.0                1.4               0.2   \n",
      "2                4.7               3.2                1.3               0.2   \n",
      "3                4.6               3.1                1.5               0.2   \n",
      "4                5.0               3.6                1.4               0.2   \n",
      "\n",
      "   target  \n",
      "0       0  \n",
      "1       0  \n",
      "2       0  \n",
      "3       0  \n",
      "4       0  \n",
      "\n",
      "Last 5 rows of the data set:\n",
      "     sepal length (cm)  sepal width (cm)  petal length (cm)  petal width (cm)  \\\n",
      "145                6.7               3.0                5.2               2.3   \n",
      "146                6.3               2.5                5.0               1.9   \n",
      "147                6.5               3.0                5.2               2.0   \n",
      "148                6.2               3.4                5.4               2.3   \n",
      "149                5.9               3.0                5.1               1.8   \n",
      "\n",
      "     target  \n",
      "145       2  \n",
      "146       2  \n",
      "147       2  \n",
      "148       2  \n",
      "149       2  \n"
     ]
    }
   ],
   "source": [
    "# create dataframe\n",
    "df = pd.DataFrame(data.data, columns=data.feature_names)\n",
    "\n",
    "# add target column\n",
    "df['target'] = data.target\n",
    "\n",
    "# display the first 5 rows of the data set\n",
    "print(\"First 5 rows of the data set:\")\n",
    "print(df.head())\n",
    "\n",
    "# display last 5 rows of the data set\n",
    "print(\"\\nLast 5 rows of the data set:\")\n",
    "print(df.tail())\n"
   ]
  },
  {
   "cell_type": "markdown",
   "metadata": {},
   "source": [
    "Displaying the first and last 5 rows allows me to inspect the structure and stored values in the data set. The `target` column uses integers to represent the iris species."
   ]
  },
  {
   "cell_type": "code",
   "execution_count": 19,
   "metadata": {},
   "outputs": [
    {
     "name": "stdout",
     "output_type": "stream",
     "text": [
      "Feature names: ['sepal length (cm)', 'sepal width (cm)', 'petal length (cm)', 'petal width (cm)']\n",
      "Target class names: ['setosa' 'versicolor' 'virginica']\n",
      "Keys in the data set: dict_keys(['data', 'target', 'frame', 'target_names', 'DESCR', 'feature_names', 'filename', 'data_module'])\n"
     ]
    }
   ],
   "source": [
    "# show feature names\n",
    "print(\"Feature names:\", data.feature_names)\n",
    "\n",
    "# show target class names\n",
    "print(\"Target class names:\", data.target_names)\n",
    "\n",
    "# show dictionary keys\n",
    "print(\"Keys in the data set:\", data.keys())"
   ]
  },
  {
   "cell_type": "markdown",
   "metadata": {},
   "source": [
    "**Feature names:** are the four measurements of each iris sample\n",
    "\n",
    "**Target class names:** the actual names of the iris species\n",
    "\n",
    "**Keys:** The keys within the data set that help me understand it."
   ]
  },
  {
   "cell_type": "markdown",
   "metadata": {},
   "source": [
    "### Task 3: Summarize the Data"
   ]
  },
  {
   "cell_type": "markdown",
   "metadata": {},
   "source": [
    "For each feature in the dataset, calculate and display:\n",
    "\n",
    "- mean\n",
    "- minimum\n",
    "- maximum\n",
    "- standard deviation\n",
    "- median\n"
   ]
  },
  {
   "cell_type": "code",
   "execution_count": 20,
   "metadata": {},
   "outputs": [
    {
     "name": "stdout",
     "output_type": "stream",
     "text": [
      "Mean values:\n",
      " sepal length (cm)    5.843333\n",
      "sepal width (cm)     3.057333\n",
      "petal length (cm)    3.758000\n",
      "petal width (cm)     1.199333\n",
      "dtype: float64\n",
      "\n",
      "Minimum values:\n",
      " sepal length (cm)    4.3\n",
      "sepal width (cm)     2.0\n",
      "petal length (cm)    1.0\n",
      "petal width (cm)     0.1\n",
      "dtype: float64\n",
      "\n",
      "Maximum values:\n",
      " sepal length (cm)    7.9\n",
      "sepal width (cm)     4.4\n",
      "petal length (cm)    6.9\n",
      "petal width (cm)     2.5\n",
      "dtype: float64\n",
      "\n",
      "Standard Deviation values:\n",
      " sepal length (cm)    0.828066\n",
      "sepal width (cm)     0.435866\n",
      "petal length (cm)    1.765298\n",
      "petal width (cm)     0.762238\n",
      "dtype: float64\n",
      "\n",
      "Median values:\n",
      " sepal length (cm)    5.80\n",
      "sepal width (cm)     3.00\n",
      "petal length (cm)    4.35\n",
      "petal width (cm)     1.30\n",
      "dtype: float64\n"
     ]
    }
   ],
   "source": [
    "# display the mean for each feature\n",
    "print(\"Mean values:\\n\", df.iloc[:,:-1].mean())\n",
    "\n",
    "# display the minimum for each feature\n",
    "print(\"\\nMinimum values:\\n\", df.iloc[:,:-1].min())\n",
    "\n",
    "# display the maximum for each feature\n",
    "print(\"\\nMaximum values:\\n\", df.iloc[:,:-1].max())\n",
    "\n",
    "# display the standard deviation of each feature\n",
    "print(\"\\nStandard Deviation values:\\n\", df.iloc[:,:-1].std())\n",
    "\n",
    "# display the median of each feature\n",
    "print(\"\\nMedian values:\\n\", df.iloc[:,:-1].median())\n",
    "\n",
    "# learned to use loc and iloc with the free DataCamp subscription provided by the course - useful for indexing"
   ]
  },
  {
   "cell_type": "markdown",
   "metadata": {},
   "source": [
    "Above are the displayed mean, minimum, maximum, standard deviation and median of the dataset. Each of these give me a further insight into the information of the dataset, now translated from raw data to something readable.\n",
    "\n",
    "\n",
    "**Mean:** The mean is useful to know the averages of each feature, so that it can give context to the minimum and maximum.\n",
    "\n",
    "\n",
    "**Minimum and Maximum:** These values give the range of the dataset, showing how low or high the feature's values actually are. It is useful to know to mean before observing this, as we can see that the maximum value of the sepal length is 2.1 centimetres taller than the average.\n",
    "\n",
    "\n",
    "**Standard variation:** The standard variation measures the variation between the average/mean. A lower standard variation, like the sepal width, will show that the values are close to the mean would visually look close together on a graph or chart, whereas a higher standard variation will have greater space between each value.\n",
    "\n",
    "\n",
    "**Median:** The median is concerned with finding the most central point of each feature and displaying it. The median can give us a better understanding of what the middle-point of the data is, as calculating the mean can be skewed with with extreme or outlying data.\n"
   ]
  },
  {
   "cell_type": "markdown",
   "metadata": {},
   "source": [
    "### Task 4: Visualize Features"
   ]
  },
  {
   "cell_type": "markdown",
   "metadata": {},
   "source": [
    "Plot histograms for each feature using `matplotlib`.\n",
    "\n",
    "Add appropriate titles and axis labels."
   ]
  },
  {
   "cell_type": "code",
   "execution_count": null,
   "metadata": {},
   "outputs": [],
   "source": []
  },
  {
   "cell_type": "markdown",
   "metadata": {},
   "source": [
    "### Task 5: Investigate Relationships"
   ]
  },
  {
   "cell_type": "markdown",
   "metadata": {},
   "source": [
    "Choose any two features from the data set and create a scatter plot of them.\n",
    "\n",
    "Color-code the three different classes of the scatter plot points."
   ]
  },
  {
   "cell_type": "markdown",
   "metadata": {},
   "source": [
    "### Task 6: Analyze Relationship"
   ]
  },
  {
   "cell_type": "markdown",
   "metadata": {},
   "source": [
    "Use `numpy.polyfit` to add a regression line to the scatter plot from Task 5."
   ]
  },
  {
   "cell_type": "markdown",
   "metadata": {},
   "source": [
    "### Task 7: Analyze Class Distributions"
   ]
  },
  {
   "cell_type": "markdown",
   "metadata": {},
   "source": [
    "Create box-plots of the petal lengths for each of the three classes."
   ]
  },
  {
   "cell_type": "markdown",
   "metadata": {},
   "source": [
    "### Task 8: Compute Correlations"
   ]
  },
  {
   "cell_type": "markdown",
   "metadata": {},
   "source": [
    "Calculate the correlation coefficients between the features.\n",
    "\n",
    "Display the results as a heatmap using `matplotlib`."
   ]
  },
  {
   "cell_type": "markdown",
   "metadata": {},
   "source": [
    "### Task 9: Fit a Simple Linear Regression"
   ]
  },
  {
   "cell_type": "markdown",
   "metadata": {},
   "source": [
    "For your two features in Task 5, calculate the coefficient of determination $R^2$.\n",
    "\n",
    "Re-create the plot from Task 6 and annotate it with the $R^2$ value."
   ]
  },
  {
   "cell_type": "markdown",
   "metadata": {},
   "source": [
    "### Task 10: Too Many Features"
   ]
  },
  {
   "cell_type": "markdown",
   "metadata": {},
   "source": [
    "Use `seaborn` to create a `pairplot` of the data set.\n",
    "\n",
    "Explain, in your own words, what the `pairplot` depicts."
   ]
  },
  {
   "cell_type": "markdown",
   "metadata": {},
   "source": []
  }
 ],
 "metadata": {
  "kernelspec": {
   "display_name": "Python 3",
   "language": "python",
   "name": "python3"
  },
  "language_info": {
   "codemirror_mode": {
    "name": "ipython",
    "version": 3
   },
   "file_extension": ".py",
   "mimetype": "text/x-python",
   "name": "python",
   "nbconvert_exporter": "python",
   "pygments_lexer": "ipython3",
   "version": "3.12.1"
  }
 },
 "nbformat": 4,
 "nbformat_minor": 2
}
